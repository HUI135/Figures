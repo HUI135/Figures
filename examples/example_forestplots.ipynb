{
 "cells": [
  {
   "cell_type": "markdown",
   "id": "99f600e6",
   "metadata": {},
   "source": [
    "# 🖼️ Forest Plot Full Example"
   ]
  },
  {
   "cell_type": "markdown",
   "id": "f2f6098a",
   "metadata": {},
   "source": [
    "## 1. Basic Forest Plot 만들기"
   ]
  },
  {
   "cell_type": "code",
   "execution_count": null,
   "id": "c2c0e588",
   "metadata": {},
   "outputs": [],
   "source": [
    "\n",
    "import pandas as pd\n",
    "from forestplot_basic import *\n",
    "\n",
    "# 예제 data1 만들기\n",
    "data1 = pd.DataFrame({\n",
    "    'Outcome': ['Event A', 'Event B', 'Event C', 'Event D', 'Event E'],\n",
    "    'outcome_category': ['≥ 60', '45-59', '30-44', '15-29', '< 15 or dialysis'],\n",
    "    'aHR': ['1.2 [1.0, 1.5]', '1.5 [1.2, 1.8]', '0.8 [0.6, 1.0]', '2.5 [1.8, 3.4]', '4.0 [2.5, 6.5]']\n",
    "})\n",
    "\n",
    "# 실행\n",
    "# forestplot_basic.py 안에는 바로 실행하는 코드가 들어있어서\n",
    "# 파일 import 후 data1만 준비하면 plot이 생성됩니다.\n"
   ]
  },
  {
   "cell_type": "markdown",
   "id": "c7d540d2",
   "metadata": {},
   "source": [
    "## 2. Subgroup Forest Plot 만들기"
   ]
  },
  {
   "cell_type": "code",
   "execution_count": null,
   "id": "fe2458bb",
   "metadata": {},
   "outputs": [],
   "source": [
    "\n",
    "import pandas as pd\n",
    "from forestplot_subgroup import *\n",
    "\n",
    "# 예제 data2 만들기\n",
    "data2 = pd.DataFrame({\n",
    "    'Subgroup': ['Male', 'Male', 'Female', 'Female'],\n",
    "    'Group': ['Age < 65', 'Age < 65', 'Age ≥ 65', 'Age ≥ 65'],\n",
    "    'outcome_category': ['≥ 60', '45-59', '30-44', '15-29'],\n",
    "    'aHR': ['1.2 [1.0, 1.5]', '1.5 [1.2, 1.8]', '0.8 [0.6, 1.0]', '2.5 [1.8, 3.4]'],\n",
    "    'p for inter': ['0.05', '0.10', '0.03', '0.02']\n",
    "})\n",
    "\n",
    "# 실행\n",
    "# forestplot_subgroup.py 안에는 for loop로 자동 생성되도록 되어 있음.\n",
    "# data2만 준비하면 서브그룹별 plot이 생성됩니다.\n"
   ]
  }
 ],
 "metadata": {
  "language_info": {
   "name": "python"
  }
 },
 "nbformat": 4,
 "nbformat_minor": 5
}
